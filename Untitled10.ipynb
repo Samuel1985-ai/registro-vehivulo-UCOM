{
  "nbformat": 4,
  "nbformat_minor": 0,
  "metadata": {
    "colab": {
      "provenance": [],
      "authorship_tag": "ABX9TyN9S4CZgQNi8I1I8zXpSqtv",
      "include_colab_link": true
    },
    "kernelspec": {
      "name": "python3",
      "display_name": "Python 3"
    },
    "language_info": {
      "name": "python"
    }
  },
  "cells": [
    {
      "cell_type": "markdown",
      "metadata": {
        "id": "view-in-github",
        "colab_type": "text"
      },
      "source": [
        "<a href=\"https://colab.research.google.com/github/Samuel1985-ai/registro-vehivulo-UCOM/blob/main/Untitled10.ipynb\" target=\"_parent\"><img src=\"https://colab.research.google.com/assets/colab-badge.svg\" alt=\"Open In Colab\"/></a>"
      ]
    },
    {
      "cell_type": "code",
      "source": [
        "# Clase Vehiculo\n",
        "class Vehiculo:\n",
        "    def __init__(self, marca, modelo, año, color):\n",
        "        self.marca = marca\n",
        "        self.modelo = modelo\n",
        "        self.año = año\n",
        "        self.color = color\n",
        "\n",
        "    def __str__(self):\n",
        "        return f\"Marca: {self.marca}, Modelo: {self.modelo}, Año: {self.año}, Color: {self.color}\"\n",
        "\n",
        "    def arrancar(self):\n",
        "        print(f\"El vehículo {self.marca} {self.modelo} está arrancando.\")\n",
        "\n",
        "    def frenar(self):\n",
        "        print(f\"El vehículo {self.marca} {self.modelo} está frenando.\")\n",
        "\n",
        "# Clase Coche (hereda de Vehiculo)\n",
        "class Coche(Vehiculo):\n",
        "    def __init__(self, marca, modelo, año, color, numero_puertas, tipo_combustible):\n",
        "        super().__init__(marca, modelo, año, color)\n",
        "        self.numero_puertas = numero_puertas\n",
        "        self.tipo_combustible = tipo_combustible\n",
        "\n",
        "    def __str__(self):\n",
        "        return (f\"Marca: {self.marca}, Modelo: {self.modelo}, Año: {self.año}, Color: {self.color}, \"\n",
        "                f\"Número de puertas: {self.numero_puertas}, Tipo de combustible: {self.tipo_combustible}\")\n",
        "\n",
        "    def abrir_maletero(self):\n",
        "        print(f\"El maletero del coche {self.marca} {self.modelo} se está abriendo.\")\n",
        "\n",
        "# Crear objetos de la clase Coche\n",
        "coche1 = Coche(\"Toyota\", \"Corolla\", 2020, \"Blanco\", 4, \"Gasolina\")\n",
        "coche2 = Coche(\"Ford\", \"Focus\", 2022, \"Rojo\", 5, \"Diésel\")\n",
        "\n",
        "# Mostrar información y llamar a los métodos\n",
        "print(coche1)  # Muestra toda la información del coche1\n",
        "coche1.arrancar()\n",
        "coche1.frenar()\n",
        "coche1.abrir_maletero()\n",
        "\n",
        "print(\"\\n\")  # Separador para mejor visualización\n",
        "\n",
        "print(coche2)  # Muestra toda la información del coche2\n",
        "coche2.arrancar()\n",
        "coche2.frenar()\n",
        "coche2.abrir_maletero()\n"
      ],
      "metadata": {
        "colab": {
          "base_uri": "https://localhost:8080/",
          "height": 0
        },
        "id": "f4kW0jgOfhbB",
        "outputId": "61ef7150-cdaf-4ef5-e358-27810fe13c8e"
      },
      "execution_count": 6,
      "outputs": [
        {
          "output_type": "stream",
          "name": "stdout",
          "text": [
            "Marca: Toyota, Modelo: Corolla, Año: 2020, Color: Blanco, Número de puertas: 4, Tipo de combustible: Gasolina\n",
            "El vehículo Toyota Corolla está arrancando.\n",
            "El vehículo Toyota Corolla está frenando.\n",
            "El maletero del coche Toyota Corolla se está abriendo.\n",
            "\n",
            "\n",
            "Marca: Ford, Modelo: Focus, Año: 2022, Color: Rojo, Número de puertas: 5, Tipo de combustible: Diésel\n",
            "El vehículo Ford Focus está arrancando.\n",
            "El vehículo Ford Focus está frenando.\n",
            "El maletero del coche Ford Focus se está abriendo.\n"
          ]
        }
      ]
    }
  ]
}